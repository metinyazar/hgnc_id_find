{
 "cells": [
  {
   "cell_type": "code",
   "execution_count": null,
   "id": "027822f8",
   "metadata": {},
   "outputs": [],
   "source": [
    "import pandas as pd\n",
    "import numpy as np"
   ]
  },
  {
   "cell_type": "code",
   "execution_count": null,
   "id": "344a6c27",
   "metadata": {},
   "outputs": [],
   "source": [
    "hgnc = pd.read_csv('/Users/metinyazar/Desktop/drug_resistance_ppi/database_files/hgnc/hgnc_complete_set.txt',sep='\\t')\n",
    "columns_to_include = ['hgnc_id', 'symbol','prev_symbol','ensembl_gene_id','alias_symbol','entrez_id']\n",
    "hgnc_dict = hgnc[columns_to_include].to_dict(orient='records')"
   ]
  },
  {
   "cell_type": "code",
   "execution_count": null,
   "id": "0279ee93",
   "metadata": {},
   "outputs": [],
   "source": [
    "file = pd.read_csv('file.csv')"
   ]
  },
  {
   "cell_type": "code",
   "execution_count": null,
   "id": "c7292cd0",
   "metadata": {},
   "outputs": [],
   "source": [
    "# Build lookup dictionary\n",
    "gene_lookup = {}\n",
    "\n",
    "# Helper function to normalize symbols\n",
    "def normalize_symbol(s):\n",
    "    return s.strip().upper() if isinstance(s, str) else None\n",
    "\n",
    "for entry in hgnc_dict:\n",
    "    hgnc_id = entry.get('hgnc_id', np.nan)\n",
    "    ensembl_id = entry.get('ensembl_gene_id', np.nan)\n",
    "    entrez_id = str(entry.get('entrez_id', 'NA')) if pd.notnull(entry.get('entrez_id')) else 'NA'\n",
    "\n",
    "    # Primary symbol\n",
    "    symbol = normalize_symbol(entry.get('symbol'))\n",
    "    if symbol:\n",
    "        gene_lookup[symbol] = (hgnc_id, ensembl_id, entrez_id)\n",
    "\n",
    "    # Previous symbols (only add if not already in gene_lookup)\n",
    "    if pd.notnull(entry.get('prev_symbol')):\n",
    "        prev_symbols = entry['prev_symbol'].split('|')\n",
    "        for prev_symbol in prev_symbols:\n",
    "            norm_prev = normalize_symbol(prev_symbol)\n",
    "            if norm_prev and norm_prev not in gene_lookup:\n",
    "                gene_lookup[norm_prev] = (hgnc_id, ensembl_id, entrez_id)\n",
    "\n",
    "    # Alias symbols (only add if not already in gene_lookup)\n",
    "    if pd.notnull(entry.get('alias_symbol')):\n",
    "        alias_symbols = entry['alias_symbol'].split('|')\n",
    "        for alias in alias_symbols:\n",
    "            norm_alias = normalize_symbol(alias)\n",
    "            if norm_alias and norm_alias not in gene_lookup:\n",
    "                gene_lookup[norm_alias] = (hgnc_id, ensembl_id, entrez_id)\n",
    "\n",
    "# Lookup function using normalized input\n",
    "def lookup_gene_info(gene_symbol):\n",
    "    key = normalize_symbol(gene_symbol)\n",
    "    return gene_lookup.get(key, (np.nan, np.nan, 'NA'))\n",
    "\n",
    "# Apply the lookup function to both Biomarker and Target1 columns\n",
    "file['hgnc_id_1'], file['ensembl_gene_id_1'], file['entrez_id_1'] = zip(*file['lead_gene'].apply(lookup_gene_info))\n",
    "file['hgnc_id_2'], file['ensembl_gene_id_2'], file['entrez_id_2'] = zip(*file['partner_gene'].apply(lookup_gene_info))\n",
    "file"
   ]
  }
 ],
 "metadata": {
  "language_info": {
   "name": "python"
  }
 },
 "nbformat": 4,
 "nbformat_minor": 5
}
